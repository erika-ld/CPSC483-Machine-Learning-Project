{
 "cells": [
  {
   "cell_type": "markdown",
   "metadata": {},
   "source": [
    "#Sample code given from assignment\n",
    "#Fit the model on training set\n",
    "model = Any model of your choice\n",
    "model.fit(X_train, Y_train)\n",
    "#save the model to disk\n",
    "import pickle\n",
    "filename = 'finalized_model_M1.sav'\n",
    "pickle.dump(model, open(filename, 'wb'))\n",
    "#load the model from disk\n",
    "loaded_model = pickle.load(open(filename, 'rb'))\n",
    "result = loaded_model.score(X_test, Y_test)\n",
    "print(result)"
   ]
  },
  {
   "cell_type": "code",
   "execution_count": 8,
   "metadata": {},
   "outputs": [],
   "source": [
    "import pandas as pd\n",
    "import numpy as np\n",
    "import pickle\n",
    "from sklearn.neighbors import KNeighborsClassifier\n",
    "from sklearn.metrics import mean_squared_error\n",
    "from data_preprocessing import *\n",
    "from sklearn.neighbors import KNeighborsRegressor\n",
    "from sklearn.linear_model import LinearRegression\n",
    "from sklearn.svm import SVR\n"
   ]
  },
  {
   "cell_type": "code",
   "execution_count": 2,
   "metadata": {},
   "outputs": [
    {
     "name": "stdout",
     "output_type": "stream",
     "text": [
      "(16800, 7)\n"
     ]
    },
    {
     "data": {
      "text/html": [
       "<div>\n",
       "<style scoped>\n",
       "    .dataframe tbody tr th:only-of-type {\n",
       "        vertical-align: middle;\n",
       "    }\n",
       "\n",
       "    .dataframe tbody tr th {\n",
       "        vertical-align: top;\n",
       "    }\n",
       "\n",
       "    .dataframe thead th {\n",
       "        text-align: right;\n",
       "    }\n",
       "</style>\n",
       "<table border=\"1\" class=\"dataframe\">\n",
       "  <thead>\n",
       "    <tr style=\"text-align: right;\">\n",
       "      <th></th>\n",
       "      <th>Unnamed: 0</th>\n",
       "      <th>Male</th>\n",
       "      <th>Animal</th>\n",
       "      <th>Friends</th>\n",
       "      <th>Family</th>\n",
       "      <th>Dead&amp;Imaginary</th>\n",
       "      <th>NegativeEmotions</th>\n",
       "    </tr>\n",
       "  </thead>\n",
       "  <tbody>\n",
       "    <tr>\n",
       "      <th>0</th>\n",
       "      <td>15345</td>\n",
       "      <td>0.500000</td>\n",
       "      <td>0.000000</td>\n",
       "      <td>0.166667</td>\n",
       "      <td>0.250000</td>\n",
       "      <td>0.0</td>\n",
       "      <td>0.0</td>\n",
       "    </tr>\n",
       "    <tr>\n",
       "      <th>1</th>\n",
       "      <td>8476</td>\n",
       "      <td>0.750000</td>\n",
       "      <td>0.055556</td>\n",
       "      <td>0.117647</td>\n",
       "      <td>0.176471</td>\n",
       "      <td>0.0</td>\n",
       "      <td>1.0</td>\n",
       "    </tr>\n",
       "    <tr>\n",
       "      <th>2</th>\n",
       "      <td>9052</td>\n",
       "      <td>0.000000</td>\n",
       "      <td>0.000000</td>\n",
       "      <td>0.250000</td>\n",
       "      <td>0.000000</td>\n",
       "      <td>0.0</td>\n",
       "      <td>1.0</td>\n",
       "    </tr>\n",
       "    <tr>\n",
       "      <th>3</th>\n",
       "      <td>17206</td>\n",
       "      <td>0.333333</td>\n",
       "      <td>0.000000</td>\n",
       "      <td>0.176471</td>\n",
       "      <td>0.235294</td>\n",
       "      <td>0.0</td>\n",
       "      <td>0.0</td>\n",
       "    </tr>\n",
       "    <tr>\n",
       "      <th>4</th>\n",
       "      <td>16188</td>\n",
       "      <td>0.250000</td>\n",
       "      <td>0.000000</td>\n",
       "      <td>0.142857</td>\n",
       "      <td>0.000000</td>\n",
       "      <td>0.0</td>\n",
       "      <td>1.0</td>\n",
       "    </tr>\n",
       "    <tr>\n",
       "      <th>5</th>\n",
       "      <td>4475</td>\n",
       "      <td>1.000000</td>\n",
       "      <td>0.000000</td>\n",
       "      <td>0.250000</td>\n",
       "      <td>0.000000</td>\n",
       "      <td>0.0</td>\n",
       "      <td>0.0</td>\n",
       "    </tr>\n",
       "    <tr>\n",
       "      <th>6</th>\n",
       "      <td>11744</td>\n",
       "      <td>0.000000</td>\n",
       "      <td>0.000000</td>\n",
       "      <td>0.000000</td>\n",
       "      <td>0.000000</td>\n",
       "      <td>0.0</td>\n",
       "      <td>1.0</td>\n",
       "    </tr>\n",
       "    <tr>\n",
       "      <th>7</th>\n",
       "      <td>6056</td>\n",
       "      <td>0.000000</td>\n",
       "      <td>0.000000</td>\n",
       "      <td>0.000000</td>\n",
       "      <td>0.000000</td>\n",
       "      <td>0.0</td>\n",
       "      <td>0.0</td>\n",
       "    </tr>\n",
       "    <tr>\n",
       "      <th>8</th>\n",
       "      <td>3755</td>\n",
       "      <td>0.000000</td>\n",
       "      <td>0.000000</td>\n",
       "      <td>0.000000</td>\n",
       "      <td>0.200000</td>\n",
       "      <td>0.0</td>\n",
       "      <td>0.0</td>\n",
       "    </tr>\n",
       "    <tr>\n",
       "      <th>9</th>\n",
       "      <td>15650</td>\n",
       "      <td>0.600000</td>\n",
       "      <td>0.166667</td>\n",
       "      <td>0.200000</td>\n",
       "      <td>0.300000</td>\n",
       "      <td>0.0</td>\n",
       "      <td>1.0</td>\n",
       "    </tr>\n",
       "  </tbody>\n",
       "</table>\n",
       "</div>"
      ],
      "text/plain": [
       "   Unnamed: 0      Male    Animal   Friends    Family  Dead&Imaginary  \\\n",
       "0       15345  0.500000  0.000000  0.166667  0.250000             0.0   \n",
       "1        8476  0.750000  0.055556  0.117647  0.176471             0.0   \n",
       "2        9052  0.000000  0.000000  0.250000  0.000000             0.0   \n",
       "3       17206  0.333333  0.000000  0.176471  0.235294             0.0   \n",
       "4       16188  0.250000  0.000000  0.142857  0.000000             0.0   \n",
       "5        4475  1.000000  0.000000  0.250000  0.000000             0.0   \n",
       "6       11744  0.000000  0.000000  0.000000  0.000000             0.0   \n",
       "7        6056  0.000000  0.000000  0.000000  0.000000             0.0   \n",
       "8        3755  0.000000  0.000000  0.000000  0.200000             0.0   \n",
       "9       15650  0.600000  0.166667  0.200000  0.300000             0.0   \n",
       "\n",
       "   NegativeEmotions  \n",
       "0               0.0  \n",
       "1               1.0  \n",
       "2               1.0  \n",
       "3               0.0  \n",
       "4               1.0  \n",
       "5               0.0  \n",
       "6               1.0  \n",
       "7               0.0  \n",
       "8               0.0  \n",
       "9               1.0  "
      ]
     },
     "execution_count": 2,
     "metadata": {},
     "output_type": "execute_result"
    }
   ],
   "source": [
    "dreams_proc = pd.read_csv('training_data.csv')\n",
    "print(dreams_proc.shape)\n",
    "dreams_proc.head(10)\n"
   ]
  },
  {
   "cell_type": "code",
   "execution_count": 3,
   "metadata": {},
   "outputs": [
    {
     "name": "stdout",
     "output_type": "stream",
     "text": [
      "           Male    Animal   Friends    Family  Dead&Imaginary\n",
      "15345  0.500000  0.000000  0.166667  0.250000             0.0\n",
      "8476   0.750000  0.055556  0.117647  0.176471             0.0\n",
      "9052   0.000000  0.000000  0.250000  0.000000             0.0\n",
      "17206  0.333333  0.000000  0.176471  0.235294             0.0\n",
      "16188  0.250000  0.000000  0.142857  0.000000             0.0\n"
     ]
    }
   ],
   "source": [
    "#Experiment\n",
    "ex_X_train = X_train.copy()\n",
    "ex_y_train = y_train.copy()\n",
    "ex_X_test = X_test.copy()\n",
    "ex_y_test = y_test.copy()\n",
    "print(ex_X_train.head(5))\n",
    "\n"
   ]
  },
  {
   "cell_type": "code",
   "execution_count": 4,
   "metadata": {},
   "outputs": [
    {
     "name": "stdout",
     "output_type": "stream",
     "text": [
      "-0.08196060992236953\n"
     ]
    }
   ],
   "source": [
    "#Use scikit learn's KNN regression function\n",
    "#KNN Regression on the processed dataset w/ k = 10\n",
    "knn_regressor = KNeighborsRegressor(n_neighbors=10)\n",
    "knn_regressor.fit(ex_X_train, ex_y_train)\n",
    "y_predict = knn_regressor.predict(ex_X_test)\n",
    "mse = mean_squared_error(ex_y_test, y_predict)\n",
    "#print(\"Error:\", mse)\n",
    "\n",
    "filename = 'finalized_model_M1.model'\n",
    "pickle.dump(knn_regressor, open(filename, 'wb'))\n",
    "\n",
    "loaded_model = pickle.load(open(filename, 'rb'))\n",
    "result = loaded_model.score(ex_X_test, ex_y_test)\n",
    "print(result)\n"
   ]
  },
  {
   "cell_type": "code",
   "execution_count": 6,
   "metadata": {},
   "outputs": [
    {
     "name": "stdout",
     "output_type": "stream",
     "text": [
      "0.0019301394490892632\n"
     ]
    }
   ],
   "source": [
    "#Use scikit learn's linear regression function\n",
    "#Linear regression on the processed dataset\n",
    "\n",
    "linear_regression = LinearRegression() \n",
    "linear_regression.fit(ex_X_train, ex_y_train) \n",
    "print(linear_regression.score(ex_X_test, ex_y_test))\n",
    "y_predict =linear_regression.predict(ex_X_test)\n",
    "mse = mean_squared_error(ex_y_test, y_predict)\n",
    "#print(\"Error:\", mse)\n",
    "\n",
    "filename = 'finalized_model_LR1.model'\n",
    "pickle.dump(linear_regression, open(filename, 'wb'))\n",
    "\n",
    "loaded_model = pickle.load(open(filename, 'rb'))\n",
    "result = loaded_model.score(ex_X_test, ex_y_test)"
   ]
  },
  {
   "cell_type": "code",
   "execution_count": 9,
   "metadata": {},
   "outputs": [
    {
     "name": "stdout",
     "output_type": "stream",
     "text": [
      "SVM MSE (processed): 0.2815684864705614\n",
      "SVM Score (processed): -0.25192086666368896\n"
     ]
    }
   ],
   "source": [
    "#Use scikit learn's SVM function\n",
    "#SVM on the processed dataset\n",
    "\n",
    "svm_regressor = SVR(kernel='rbf', C=1.0, epsilon=0.1)\n",
    "svm_regressor.fit(ex_X_train, ex_y_train)\n",
    "y_predict_svm = svm_regressor.predict(ex_X_test)\n",
    "mse_svm = mean_squared_error(ex_y_test, y_predict_svm)\n",
    "print(\"SVM MSE (processed):\", mse_svm)\n",
    "\n",
    "filename_svm = 'finalized_model_SVM1.model'\n",
    "pickle.dump(svm_regressor, open(filename_svm, 'wb'))\n",
    "\n",
    "loaded_svm_model = pickle.load(open(filename_svm, 'rb'))\n",
    "result_svm = loaded_svm_model.score(ex_X_test, ex_y_test)\n",
    "print(\"SVM Score (processed):\", result_svm)"
   ]
  }
 ],
 "metadata": {
  "kernelspec": {
   "display_name": "base",
   "language": "python",
   "name": "python3"
  },
  "language_info": {
   "codemirror_mode": {
    "name": "ipython",
    "version": 3
   },
   "file_extension": ".py",
   "mimetype": "text/x-python",
   "name": "python",
   "nbconvert_exporter": "python",
   "pygments_lexer": "ipython3",
   "version": "3.12.4"
  }
 },
 "nbformat": 4,
 "nbformat_minor": 2
}
