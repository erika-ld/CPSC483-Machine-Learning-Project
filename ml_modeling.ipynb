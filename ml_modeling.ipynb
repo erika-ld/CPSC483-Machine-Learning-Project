{
 "cells": [
  {
   "cell_type": "markdown",
   "metadata": {},
   "source": [
    "#Sample code given from assignment\n",
    "# Fit the model on training set\n",
    "model = Any model of your choice\n",
    "model.fit(X_train, Y_train)\n",
    "# save the model to disk\n",
    "import pickle\n",
    "filename = 'finalized_model_M1.sav'\n",
    "pickle.dump(model, open(filename, 'wb'))\n",
    "# load the model from disk\n",
    "loaded_model = pickle.load(open(filename, 'rb'))\n",
    "result = loaded_model.score(X_test, Y_test)\n",
    "print(result)"
   ]
  },
  {
   "cell_type": "code",
   "execution_count": 29,
   "metadata": {},
   "outputs": [],
   "source": [
    "import pandas as pd\n",
    "import numpy as np\n",
    "import pickle\n",
    "from sklearn.neighbors import KNeighborsClassifier\n",
    "from sklearn.metrics import mean_squared_error\n",
    "from data_preprocessing import *\n",
    "from sklearn.neighbors import KNeighborsRegressor\n"
   ]
  },
  {
   "cell_type": "code",
   "execution_count": 30,
   "metadata": {},
   "outputs": [
    {
     "name": "stdout",
     "output_type": "stream",
     "text": [
      "(16800, 7)\n"
     ]
    },
    {
     "data": {
      "text/html": [
       "<div>\n",
       "<style scoped>\n",
       "    .dataframe tbody tr th:only-of-type {\n",
       "        vertical-align: middle;\n",
       "    }\n",
       "\n",
       "    .dataframe tbody tr th {\n",
       "        vertical-align: top;\n",
       "    }\n",
       "\n",
       "    .dataframe thead th {\n",
       "        text-align: right;\n",
       "    }\n",
       "</style>\n",
       "<table border=\"1\" class=\"dataframe\">\n",
       "  <thead>\n",
       "    <tr style=\"text-align: right;\">\n",
       "      <th></th>\n",
       "      <th>Unnamed: 0</th>\n",
       "      <th>Male</th>\n",
       "      <th>Animal</th>\n",
       "      <th>Friends</th>\n",
       "      <th>Family</th>\n",
       "      <th>Dead&amp;Imaginary</th>\n",
       "      <th>NegativeEmotions</th>\n",
       "    </tr>\n",
       "  </thead>\n",
       "  <tbody>\n",
       "    <tr>\n",
       "      <th>0</th>\n",
       "      <td>15345</td>\n",
       "      <td>0.500000</td>\n",
       "      <td>0.000000</td>\n",
       "      <td>0.166667</td>\n",
       "      <td>0.250000</td>\n",
       "      <td>0.0</td>\n",
       "      <td>0.0</td>\n",
       "    </tr>\n",
       "    <tr>\n",
       "      <th>1</th>\n",
       "      <td>8476</td>\n",
       "      <td>0.750000</td>\n",
       "      <td>0.055556</td>\n",
       "      <td>0.117647</td>\n",
       "      <td>0.176471</td>\n",
       "      <td>0.0</td>\n",
       "      <td>1.0</td>\n",
       "    </tr>\n",
       "    <tr>\n",
       "      <th>2</th>\n",
       "      <td>9052</td>\n",
       "      <td>0.000000</td>\n",
       "      <td>0.000000</td>\n",
       "      <td>0.250000</td>\n",
       "      <td>0.000000</td>\n",
       "      <td>0.0</td>\n",
       "      <td>1.0</td>\n",
       "    </tr>\n",
       "    <tr>\n",
       "      <th>3</th>\n",
       "      <td>17206</td>\n",
       "      <td>0.333333</td>\n",
       "      <td>0.000000</td>\n",
       "      <td>0.176471</td>\n",
       "      <td>0.235294</td>\n",
       "      <td>0.0</td>\n",
       "      <td>0.0</td>\n",
       "    </tr>\n",
       "    <tr>\n",
       "      <th>4</th>\n",
       "      <td>16188</td>\n",
       "      <td>0.250000</td>\n",
       "      <td>0.000000</td>\n",
       "      <td>0.142857</td>\n",
       "      <td>0.000000</td>\n",
       "      <td>0.0</td>\n",
       "      <td>1.0</td>\n",
       "    </tr>\n",
       "    <tr>\n",
       "      <th>5</th>\n",
       "      <td>4475</td>\n",
       "      <td>1.000000</td>\n",
       "      <td>0.000000</td>\n",
       "      <td>0.250000</td>\n",
       "      <td>0.000000</td>\n",
       "      <td>0.0</td>\n",
       "      <td>0.0</td>\n",
       "    </tr>\n",
       "    <tr>\n",
       "      <th>6</th>\n",
       "      <td>11744</td>\n",
       "      <td>0.000000</td>\n",
       "      <td>0.000000</td>\n",
       "      <td>0.000000</td>\n",
       "      <td>0.000000</td>\n",
       "      <td>0.0</td>\n",
       "      <td>1.0</td>\n",
       "    </tr>\n",
       "    <tr>\n",
       "      <th>7</th>\n",
       "      <td>6056</td>\n",
       "      <td>0.000000</td>\n",
       "      <td>0.000000</td>\n",
       "      <td>0.000000</td>\n",
       "      <td>0.000000</td>\n",
       "      <td>0.0</td>\n",
       "      <td>0.0</td>\n",
       "    </tr>\n",
       "    <tr>\n",
       "      <th>8</th>\n",
       "      <td>3755</td>\n",
       "      <td>0.000000</td>\n",
       "      <td>0.000000</td>\n",
       "      <td>0.000000</td>\n",
       "      <td>0.200000</td>\n",
       "      <td>0.0</td>\n",
       "      <td>0.0</td>\n",
       "    </tr>\n",
       "    <tr>\n",
       "      <th>9</th>\n",
       "      <td>15650</td>\n",
       "      <td>0.600000</td>\n",
       "      <td>0.166667</td>\n",
       "      <td>0.200000</td>\n",
       "      <td>0.300000</td>\n",
       "      <td>0.0</td>\n",
       "      <td>1.0</td>\n",
       "    </tr>\n",
       "  </tbody>\n",
       "</table>\n",
       "</div>"
      ],
      "text/plain": [
       "   Unnamed: 0      Male    Animal   Friends    Family  Dead&Imaginary  \\\n",
       "0       15345  0.500000  0.000000  0.166667  0.250000             0.0   \n",
       "1        8476  0.750000  0.055556  0.117647  0.176471             0.0   \n",
       "2        9052  0.000000  0.000000  0.250000  0.000000             0.0   \n",
       "3       17206  0.333333  0.000000  0.176471  0.235294             0.0   \n",
       "4       16188  0.250000  0.000000  0.142857  0.000000             0.0   \n",
       "5        4475  1.000000  0.000000  0.250000  0.000000             0.0   \n",
       "6       11744  0.000000  0.000000  0.000000  0.000000             0.0   \n",
       "7        6056  0.000000  0.000000  0.000000  0.000000             0.0   \n",
       "8        3755  0.000000  0.000000  0.000000  0.200000             0.0   \n",
       "9       15650  0.600000  0.166667  0.200000  0.300000             0.0   \n",
       "\n",
       "   NegativeEmotions  \n",
       "0               0.0  \n",
       "1               1.0  \n",
       "2               1.0  \n",
       "3               0.0  \n",
       "4               1.0  \n",
       "5               0.0  \n",
       "6               1.0  \n",
       "7               0.0  \n",
       "8               0.0  \n",
       "9               1.0  "
      ]
     },
     "execution_count": 30,
     "metadata": {},
     "output_type": "execute_result"
    }
   ],
   "source": [
    "dreams_proc = pd.read_csv('training_data.csv')\n",
    "print(dreams_proc.shape)\n",
    "dreams_proc.head(10)\n"
   ]
  },
  {
   "cell_type": "code",
   "execution_count": 31,
   "metadata": {},
   "outputs": [
    {
     "data": {
      "text/html": [
       "<div>\n",
       "<style scoped>\n",
       "    .dataframe tbody tr th:only-of-type {\n",
       "        vertical-align: middle;\n",
       "    }\n",
       "\n",
       "    .dataframe tbody tr th {\n",
       "        vertical-align: top;\n",
       "    }\n",
       "\n",
       "    .dataframe thead th {\n",
       "        text-align: right;\n",
       "    }\n",
       "</style>\n",
       "<table border=\"1\" class=\"dataframe\">\n",
       "  <thead>\n",
       "    <tr style=\"text-align: right;\">\n",
       "      <th></th>\n",
       "      <th>dream_id</th>\n",
       "      <th>Male</th>\n",
       "      <th>Animal</th>\n",
       "      <th>Friends</th>\n",
       "      <th>Family</th>\n",
       "      <th>Dead&amp;Imaginary</th>\n",
       "    </tr>\n",
       "  </thead>\n",
       "  <tbody>\n",
       "    <tr>\n",
       "      <th>15345</th>\n",
       "      <td>19546</td>\n",
       "      <td>0.500000</td>\n",
       "      <td>0.000000</td>\n",
       "      <td>0.166667</td>\n",
       "      <td>0.250000</td>\n",
       "      <td>0.0</td>\n",
       "    </tr>\n",
       "    <tr>\n",
       "      <th>8476</th>\n",
       "      <td>10453</td>\n",
       "      <td>0.750000</td>\n",
       "      <td>0.055556</td>\n",
       "      <td>0.117647</td>\n",
       "      <td>0.176471</td>\n",
       "      <td>0.0</td>\n",
       "    </tr>\n",
       "    <tr>\n",
       "      <th>9052</th>\n",
       "      <td>11629</td>\n",
       "      <td>0.000000</td>\n",
       "      <td>0.000000</td>\n",
       "      <td>0.250000</td>\n",
       "      <td>0.000000</td>\n",
       "      <td>0.0</td>\n",
       "    </tr>\n",
       "    <tr>\n",
       "      <th>17206</th>\n",
       "      <td>21910</td>\n",
       "      <td>0.333333</td>\n",
       "      <td>0.000000</td>\n",
       "      <td>0.176471</td>\n",
       "      <td>0.235294</td>\n",
       "      <td>0.0</td>\n",
       "    </tr>\n",
       "    <tr>\n",
       "      <th>16188</th>\n",
       "      <td>20601</td>\n",
       "      <td>0.250000</td>\n",
       "      <td>0.000000</td>\n",
       "      <td>0.142857</td>\n",
       "      <td>0.000000</td>\n",
       "      <td>0.0</td>\n",
       "    </tr>\n",
       "  </tbody>\n",
       "</table>\n",
       "</div>"
      ],
      "text/plain": [
       "        dream_id      Male    Animal   Friends    Family  Dead&Imaginary\n",
       "15345      19546  0.500000  0.000000  0.166667  0.250000             0.0\n",
       "8476       10453  0.750000  0.055556  0.117647  0.176471             0.0\n",
       "9052       11629  0.000000  0.000000  0.250000  0.000000             0.0\n",
       "17206      21910  0.333333  0.000000  0.176471  0.235294             0.0\n",
       "16188      20601  0.250000  0.000000  0.142857  0.000000             0.0"
      ]
     },
     "execution_count": 31,
     "metadata": {},
     "output_type": "execute_result"
    }
   ],
   "source": [
    "#Experiment\n",
    "ex_X_train = X_train.copy()\n",
    "ex_y_train = y_train.copy()\n",
    "ex_X_test = X_test.copy()\n",
    "ex_y_test = y_test.copy()\n",
    "ex_X_train = ex_X_train.drop(['dreamer', 'description', 'gender', 'text_dream', 'Aggression/Friendliness', 'A/CIndex', 'F/CIndex', 'S/CIndex'], axis=1)\n",
    "ex_X_test = ex_X_test.drop(['dreamer', 'description', 'gender', 'text_dream', 'Aggression/Friendliness', 'A/CIndex', 'F/CIndex', 'S/CIndex'], axis=1)\n",
    "ex_X_train.head(5)\n",
    "\n"
   ]
  },
  {
   "cell_type": "code",
   "execution_count": 32,
   "metadata": {},
   "outputs": [
    {
     "name": "stdout",
     "output_type": "stream",
     "text": [
      "Error: 0.22765524668886422\n"
     ]
    }
   ],
   "source": [
    "#Use scikit learn's KNN function\n",
    "#knn = KNeighborsClassifier(n_neighbors=10)\n",
    "#knn.fit(ex_X_train, y_train)\n",
    "knn_regressor = KNeighborsRegressor(n_neighbors=10)\n",
    "knn_regressor.fit(ex_X_train, y_train)\n",
    "y_predict = knn_regressor.predict(ex_X_test)\n",
    "mse = mean_squared_error(ex_y_test, y_predict)\n",
    "print(\"Error:\", mse)\n"
   ]
  },
  {
   "cell_type": "code",
   "execution_count": 33,
   "metadata": {},
   "outputs": [
    {
     "data": {
      "image/png": "[encoded data removed]",
      "text/plain": [
       "<Figure size 1000x600 with 1 Axes>"
      ]
     },
     "metadata": {},
     "output_type": "display_data"
    }
   ],
   "source": [
    "import matplotlib.pyplot as plot\n",
    "\n",
    "k_list = (range(1,4))\n",
    "error_rate = (0.1, 0.4, 0.5)\n",
    "\n",
    "plot.figure(figsize=(10,6))\n",
    "plot.plot(k_list, error_rate, marker ='o', linestyle = '-', color='blue')\n",
    "plot.title('k-value vs error rate')\n",
    "plot.xlabel('k-value')\n",
    "plot.ylabel('Error Rate')\n",
    "plot.show()"
   ]
  },
  {
   "cell_type": "code",
   "execution_count": 34,
   "metadata": {},
   "outputs": [
    {
     "name": "stdout",
     "output_type": "stream",
     "text": [
      "        dream_id      Male    Animal   Friends    Family  Dead&Imaginary\n",
      "15345      19546  0.500000  0.000000  0.166667  0.250000             0.0\n",
      "8476       10453  0.750000  0.055556  0.117647  0.176471             0.0\n",
      "9052       11629  0.000000  0.000000  0.250000  0.000000             0.0\n",
      "17206      21910  0.333333  0.000000  0.176471  0.235294             0.0\n",
      "16188      20601  0.250000  0.000000  0.142857  0.000000             0.0\n"
     ]
    }
   ],
   "source": [
    "print(ex_X_train.head(5))"
   ]
  },
  {
   "cell_type": "code",
   "execution_count": 35,
   "metadata": {},
   "outputs": [
    {
     "name": "stdout",
     "output_type": "stream",
     "text": [
      "        dream_id      Male    Animal   Friends    Family  Dead&Imaginary\n",
      "2312        2772  0.500000  0.000000  0.176471  0.117647             0.0\n",
      "16845      21300  0.500000  0.142857  0.166667  0.500000             0.0\n",
      "6105        7212  0.500000  0.000000  0.000000  1.000000             0.0\n",
      "18082      23541  0.000000  0.000000  0.000000  0.000000             0.0\n",
      "11335      14975  0.666667  0.000000  0.000000  0.117647             0.0\n"
     ]
    }
   ],
   "source": [
    "print(ex_X_test.head(5))"
   ]
  }
 ],
 "metadata": {
  "kernelspec": {
   "display_name": "base",
   "language": "python",
   "name": "python3"
  },
  "language_info": {
   "codemirror_mode": {
    "name": "ipython",
    "version": 3
   },
   "file_extension": ".py",
   "mimetype": "text/x-python",
   "name": "python",
   "nbconvert_exporter": "python",
   "pygments_lexer": "ipython3",
   "version": "3.12.4"
  }
 },
 "nbformat": 4,
 "nbformat_minor": 2
}
