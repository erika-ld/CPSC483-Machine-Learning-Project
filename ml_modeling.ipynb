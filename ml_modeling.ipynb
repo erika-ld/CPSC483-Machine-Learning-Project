{
 "cells": [
  {
   "cell_type": "code",
   "execution_count": null,
   "metadata": {
    "vscode": {
     "languageId": "plaintext"
    }
   },
   "outputs": [],
   "source": [
    "#Sample code given from assignment\n",
    "# Fit the model on training set\n",
    "model = Any model of your choice\n",
    "model.fit(X_train, Y_train)\n",
    "# save the model to disk\n",
    "import pickle\n",
    "filename = 'finalized_model_M1.sav'\n",
    "pickle.dump(model, open(filename, 'wb'))\n",
    "# load the model from disk\n",
    "loaded_model = pickle.load(open(filename, 'rb'))\n",
    "result = loaded_model.score(X_test, Y_test)\n",
    "print(result)"
   ]
  }
 ],
 "metadata": {
  "language_info": {
   "name": "python"
  }
 },
 "nbformat": 4,
 "nbformat_minor": 2
}
