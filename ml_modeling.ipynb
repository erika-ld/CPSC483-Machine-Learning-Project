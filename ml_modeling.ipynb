{
 "cells": [
  {
   "cell_type": "markdown",
   "metadata": {},
   "source": [
    "#Sample code given from assignment\n",
    "# Fit the model on training set\n",
    "model = Any model of your choice\n",
    "model.fit(X_train, Y_train)\n",
    "# save the model to disk\n",
    "import pickle\n",
    "filename = 'finalized_model_M1.sav'\n",
    "pickle.dump(model, open(filename, 'wb'))\n",
    "# load the model from disk\n",
    "loaded_model = pickle.load(open(filename, 'rb'))\n",
    "result = loaded_model.score(X_test, Y_test)\n",
    "print(result)"
   ]
  },
  {
   "cell_type": "code",
   "execution_count": 18,
   "metadata": {},
   "outputs": [],
   "source": [
    "import pandas as pd\n",
    "import numpy as np\n",
    "import pickle\n",
    "from sklearn.neighbors import KNeighborsClassifier\n",
    "import data_preprocessing as dp"
   ]
  },
  {
   "cell_type": "code",
   "execution_count": 19,
   "metadata": {},
   "outputs": [
    {
     "name": "stdout",
     "output_type": "stream",
     "text": [
      "(16800, 16)\n",
      "        dream_id              dreamer gender                  description  \\\n",
      "15345      19546  madeline3-offcampus      F       Madeline 3: Off-Campus   \n",
      "8476       10453        emmas_husband      M               Emma's Husband   \n",
      "9052       11629          hall_female      F    College women, late 1940s   \n",
      "17206      21910               norman      M     Norman: a child molester   \n",
      "16188      20601                merri      F             Merri: an artist   \n",
      "...          ...                  ...    ...                          ...   \n",
      "11284      14916                 izzy      F                   Izzy (all)   \n",
      "11964      15681                 izzy      F                   Izzy (all)   \n",
      "5390        6153                chuck      M  Chuck: a physical scientist   \n",
      "860          905                    b      F                 Barb Sanders   \n",
      "15795      20191               melora      F       Melora (Melvin's wife)   \n",
      "\n",
      "                                              text_dream      Male    Animal  \\\n",
      "15345  I dreamt of being in my boyfriend Jeremy's par...  0.500000  0.000000   \n",
      "8476   I am in the desert and a musical gathering is ...  0.750000  0.055556   \n",
      "9052   I dreamed that one of my friends, about a year...  0.000000  0.000000   \n",
      "17206  I was in a carpenter shop. I found some food a...  0.333333  0.000000   \n",
      "16188  We were going deep sea fishing. I was suppose ...  0.250000  0.000000   \n",
      "...                                                  ...       ...       ...   \n",
      "11284  I was at a train station and I had to put bagg...  0.333333  0.000000   \n",
      "11964  A bunch of us ended up in this building which ...  0.500000  0.000000   \n",
      "5390   A large group of friends -- maybe a dozen or s...  0.000000  0.000000   \n",
      "860    Derek is painting pictures of mountains. I am ...  0.777778  0.000000   \n",
      "15795  The dream started out in my hometown at the ar...  0.785714  0.000000   \n",
      "\n",
      "        Friends    Family  Dead&Imaginary  Aggression/Friendliness  A/CIndex  \\\n",
      "15345  0.166667  0.250000             0.0                 0.833333  0.416667   \n",
      "8476   0.117647  0.176471             0.0                 0.500000  0.222222   \n",
      "9052   0.250000  0.000000             0.0                 0.500000  0.500000   \n",
      "17206  0.176471  0.235294             0.0                 0.000000  0.000000   \n",
      "16188  0.142857  0.000000             0.0                 1.000000  0.857143   \n",
      "...         ...       ...             ...                      ...       ...   \n",
      "11284  0.000000  0.500000             0.0                 0.000000  0.000000   \n",
      "11964  0.000000  0.000000             0.0                 0.500000  1.000000   \n",
      "5390   0.200000  0.000000             0.0                 1.000000  0.200000   \n",
      "860    0.200000  0.066667             0.0                 0.000000  0.000000   \n",
      "15795  0.097561  0.268293             0.0                 0.000000  0.000000   \n",
      "\n",
      "       F/CIndex  S/CIndex  \n",
      "15345  0.083333  0.083333  \n",
      "8476   0.166667  0.111111  \n",
      "9052   0.500000  0.000000  \n",
      "17206  0.000000  0.000000  \n",
      "16188  0.142857  0.142857  \n",
      "...         ...       ...  \n",
      "11284  0.250000  0.000000  \n",
      "11964  0.250000  0.000000  \n",
      "5390   0.000000  0.000000  \n",
      "860    0.000000  0.000000  \n",
      "15795  0.024390  0.000000  \n",
      "\n",
      "[16800 rows x 14 columns]\n"
     ]
    }
   ],
   "source": [
    "dreams_proc = pd.read_csv('training_data.csv')\n",
    "print(dreams_proc.shape)\n",
    "dreams_proc.head(10)\n"
   ]
  },
  {
   "cell_type": "code",
   "execution_count": null,
   "metadata": {},
   "outputs": [],
   "source": [
    "#Use scikit learn's KNN function\n",
    "knn = KNeighborsClassifier(n_neighbors=10)\n",
    "knn.fit(X_train, y_train)"
   ]
  }
 ],
 "metadata": {
  "kernelspec": {
   "display_name": "base",
   "language": "python",
   "name": "python3"
  },
  "language_info": {
   "codemirror_mode": {
    "name": "ipython",
    "version": 3
   },
   "file_extension": ".py",
   "mimetype": "text/x-python",
   "name": "python",
   "nbconvert_exporter": "python",
   "pygments_lexer": "ipython3",
   "version": "3.12.4"
  }
 },
 "nbformat": 4,
 "nbformat_minor": 2
}
