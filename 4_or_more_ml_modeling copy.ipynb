{
 "cells": [
  {
   "cell_type": "markdown",
   "metadata": {},
   "source": [
    "Team Members: Erika Dickson, Drashti Mehta, Dulce Funez Chinchilla"
   ]
  },
  {
   "cell_type": "code",
   "execution_count": 6,
   "metadata": {},
   "outputs": [],
   "source": [
    "import pandas as pd\n",
    "import numpy as np\n",
    "import pickle\n",
    "import seaborn as sns\n",
    "from sklearn.neighbors import KNeighborsClassifier\n",
    "from sklearn.metrics import mean_squared_error\n",
    "from data_preprocessing import *\n",
    "from sklearn.neighbors import KNeighborsRegressor\n",
    "from sklearn.linear_model import LinearRegression\n",
    "from sklearn.svm import SVR\n",
    "from sklearn.ensemble import RandomForestRegressor\n",
    "from sklearn.cluster import KMeans\n",
    "from sklearn.metrics import silhouette_score\n",
    "import xgboost as xg \n",
    "from sklearn.metrics import mean_squared_error as MSE\n",
    "from sklearn.linear_model import HuberRegressor\n",
    "from sklearn.preprocessing import PolynomialFeatures\n",
    "from sklearn.linear_model import Ridge\n",
    "from sklearn.linear_model import ElasticNet\n",
    "from sklearn.linear_model import Lasso\n",
    "from sklearn.ensemble import HistGradientBoostingRegressor\n"
   ]
  },
  {
   "cell_type": "code",
   "execution_count": 7,
   "metadata": {},
   "outputs": [
    {
     "name": "stdout",
     "output_type": "stream",
     "text": [
      "(16800, 12)\n"
     ]
    },
    {
     "data": {
      "text/html": [
       "<div>\n",
       "<style scoped>\n",
       "    .dataframe tbody tr th:only-of-type {\n",
       "        vertical-align: middle;\n",
       "    }\n",
       "\n",
       "    .dataframe tbody tr th {\n",
       "        vertical-align: top;\n",
       "    }\n",
       "\n",
       "    .dataframe thead th {\n",
       "        text-align: right;\n",
       "    }\n",
       "</style>\n",
       "<table border=\"1\" class=\"dataframe\">\n",
       "  <thead>\n",
       "    <tr style=\"text-align: right;\">\n",
       "      <th></th>\n",
       "      <th>Unnamed: 0</th>\n",
       "      <th>Gender</th>\n",
       "      <th>Male</th>\n",
       "      <th>Animal</th>\n",
       "      <th>Friends</th>\n",
       "      <th>Family</th>\n",
       "      <th>Dead&amp;Imaginary</th>\n",
       "      <th>Aggression/Friendliness</th>\n",
       "      <th>A/CIndex</th>\n",
       "      <th>F/CIndex</th>\n",
       "      <th>S/CIndex</th>\n",
       "      <th>NegativeEmotions</th>\n",
       "    </tr>\n",
       "  </thead>\n",
       "  <tbody>\n",
       "    <tr>\n",
       "      <th>0</th>\n",
       "      <td>15345</td>\n",
       "      <td>1.0</td>\n",
       "      <td>0.500000</td>\n",
       "      <td>0.000000</td>\n",
       "      <td>0.166667</td>\n",
       "      <td>0.250000</td>\n",
       "      <td>0.0</td>\n",
       "      <td>0.833333</td>\n",
       "      <td>0.041667</td>\n",
       "      <td>0.007576</td>\n",
       "      <td>0.010417</td>\n",
       "      <td>0.0</td>\n",
       "    </tr>\n",
       "    <tr>\n",
       "      <th>1</th>\n",
       "      <td>8476</td>\n",
       "      <td>0.0</td>\n",
       "      <td>0.750000</td>\n",
       "      <td>0.055556</td>\n",
       "      <td>0.117647</td>\n",
       "      <td>0.176471</td>\n",
       "      <td>0.0</td>\n",
       "      <td>0.500000</td>\n",
       "      <td>0.022222</td>\n",
       "      <td>0.015152</td>\n",
       "      <td>0.013889</td>\n",
       "      <td>1.0</td>\n",
       "    </tr>\n",
       "    <tr>\n",
       "      <th>2</th>\n",
       "      <td>9052</td>\n",
       "      <td>1.0</td>\n",
       "      <td>0.000000</td>\n",
       "      <td>0.000000</td>\n",
       "      <td>0.250000</td>\n",
       "      <td>0.000000</td>\n",
       "      <td>0.0</td>\n",
       "      <td>0.500000</td>\n",
       "      <td>0.050000</td>\n",
       "      <td>0.045455</td>\n",
       "      <td>0.000000</td>\n",
       "      <td>1.0</td>\n",
       "    </tr>\n",
       "    <tr>\n",
       "      <th>3</th>\n",
       "      <td>17206</td>\n",
       "      <td>0.0</td>\n",
       "      <td>0.333333</td>\n",
       "      <td>0.000000</td>\n",
       "      <td>0.176471</td>\n",
       "      <td>0.235294</td>\n",
       "      <td>0.0</td>\n",
       "      <td>0.000000</td>\n",
       "      <td>0.000000</td>\n",
       "      <td>0.000000</td>\n",
       "      <td>0.000000</td>\n",
       "      <td>0.0</td>\n",
       "    </tr>\n",
       "    <tr>\n",
       "      <th>4</th>\n",
       "      <td>16188</td>\n",
       "      <td>1.0</td>\n",
       "      <td>0.250000</td>\n",
       "      <td>0.000000</td>\n",
       "      <td>0.142857</td>\n",
       "      <td>0.000000</td>\n",
       "      <td>0.0</td>\n",
       "      <td>1.000000</td>\n",
       "      <td>0.085714</td>\n",
       "      <td>0.012987</td>\n",
       "      <td>0.017857</td>\n",
       "      <td>1.0</td>\n",
       "    </tr>\n",
       "    <tr>\n",
       "      <th>5</th>\n",
       "      <td>4475</td>\n",
       "      <td>1.0</td>\n",
       "      <td>1.000000</td>\n",
       "      <td>0.000000</td>\n",
       "      <td>0.250000</td>\n",
       "      <td>0.000000</td>\n",
       "      <td>0.0</td>\n",
       "      <td>1.000000</td>\n",
       "      <td>0.150000</td>\n",
       "      <td>0.000000</td>\n",
       "      <td>0.000000</td>\n",
       "      <td>0.0</td>\n",
       "    </tr>\n",
       "    <tr>\n",
       "      <th>6</th>\n",
       "      <td>11744</td>\n",
       "      <td>1.0</td>\n",
       "      <td>0.000000</td>\n",
       "      <td>0.000000</td>\n",
       "      <td>0.000000</td>\n",
       "      <td>0.000000</td>\n",
       "      <td>0.0</td>\n",
       "      <td>1.000000</td>\n",
       "      <td>0.100000</td>\n",
       "      <td>0.000000</td>\n",
       "      <td>0.250000</td>\n",
       "      <td>1.0</td>\n",
       "    </tr>\n",
       "    <tr>\n",
       "      <th>7</th>\n",
       "      <td>6056</td>\n",
       "      <td>1.0</td>\n",
       "      <td>0.000000</td>\n",
       "      <td>0.000000</td>\n",
       "      <td>0.000000</td>\n",
       "      <td>0.000000</td>\n",
       "      <td>0.0</td>\n",
       "      <td>1.000000</td>\n",
       "      <td>0.000000</td>\n",
       "      <td>0.000000</td>\n",
       "      <td>0.000000</td>\n",
       "      <td>0.0</td>\n",
       "    </tr>\n",
       "    <tr>\n",
       "      <th>8</th>\n",
       "      <td>3755</td>\n",
       "      <td>1.0</td>\n",
       "      <td>0.000000</td>\n",
       "      <td>0.000000</td>\n",
       "      <td>0.000000</td>\n",
       "      <td>0.200000</td>\n",
       "      <td>0.0</td>\n",
       "      <td>0.142857</td>\n",
       "      <td>0.040000</td>\n",
       "      <td>0.127273</td>\n",
       "      <td>0.125000</td>\n",
       "      <td>0.0</td>\n",
       "    </tr>\n",
       "    <tr>\n",
       "      <th>9</th>\n",
       "      <td>15650</td>\n",
       "      <td>1.0</td>\n",
       "      <td>0.600000</td>\n",
       "      <td>0.166667</td>\n",
       "      <td>0.200000</td>\n",
       "      <td>0.300000</td>\n",
       "      <td>0.0</td>\n",
       "      <td>0.625000</td>\n",
       "      <td>0.066667</td>\n",
       "      <td>0.022727</td>\n",
       "      <td>0.000000</td>\n",
       "      <td>1.0</td>\n",
       "    </tr>\n",
       "  </tbody>\n",
       "</table>\n",
       "</div>"
      ],
      "text/plain": [
       "   Unnamed: 0  Gender      Male    Animal   Friends    Family  Dead&Imaginary  \\\n",
       "0       15345     1.0  0.500000  0.000000  0.166667  0.250000             0.0   \n",
       "1        8476     0.0  0.750000  0.055556  0.117647  0.176471             0.0   \n",
       "2        9052     1.0  0.000000  0.000000  0.250000  0.000000             0.0   \n",
       "3       17206     0.0  0.333333  0.000000  0.176471  0.235294             0.0   \n",
       "4       16188     1.0  0.250000  0.000000  0.142857  0.000000             0.0   \n",
       "5        4475     1.0  1.000000  0.000000  0.250000  0.000000             0.0   \n",
       "6       11744     1.0  0.000000  0.000000  0.000000  0.000000             0.0   \n",
       "7        6056     1.0  0.000000  0.000000  0.000000  0.000000             0.0   \n",
       "8        3755     1.0  0.000000  0.000000  0.000000  0.200000             0.0   \n",
       "9       15650     1.0  0.600000  0.166667  0.200000  0.300000             0.0   \n",
       "\n",
       "   Aggression/Friendliness  A/CIndex  F/CIndex  S/CIndex  NegativeEmotions  \n",
       "0                 0.833333  0.041667  0.007576  0.010417               0.0  \n",
       "1                 0.500000  0.022222  0.015152  0.013889               1.0  \n",
       "2                 0.500000  0.050000  0.045455  0.000000               1.0  \n",
       "3                 0.000000  0.000000  0.000000  0.000000               0.0  \n",
       "4                 1.000000  0.085714  0.012987  0.017857               1.0  \n",
       "5                 1.000000  0.150000  0.000000  0.000000               0.0  \n",
       "6                 1.000000  0.100000  0.000000  0.250000               1.0  \n",
       "7                 1.000000  0.000000  0.000000  0.000000               0.0  \n",
       "8                 0.142857  0.040000  0.127273  0.125000               0.0  \n",
       "9                 0.625000  0.066667  0.022727  0.000000               1.0  "
      ]
     },
     "execution_count": 7,
     "metadata": {},
     "output_type": "execute_result"
    }
   ],
   "source": [
    "dreams_proc = pd.read_csv('training_data.csv')\n",
    "print(dreams_proc.shape)\n",
    "dreams_proc.head(10)\n"
   ]
  },
  {
   "cell_type": "code",
   "execution_count": 8,
   "metadata": {},
   "outputs": [
    {
     "name": "stdout",
     "output_type": "stream",
     "text": [
      "Error: 0.22821809168758733\n",
      "-0.014712245376683253\n"
     ]
    }
   ],
   "source": [
    "#Use scikit learn's KNN regression function\n",
    "#KNN Regression on the processed dataset w/ k = 10\n",
    "knn_regressor = KNeighborsRegressor(n_neighbors=10)\n",
    "knn_regressor.fit(X_train_copy, y_train_copy)\n",
    "y_predict = knn_regressor.predict(X_test_copy)\n",
    "mse = mean_squared_error(y_test_copy, y_predict)\n",
    "print(\"Error:\", mse)\n",
    "\n",
    "filename = 'finalized_model_M1.model'\n",
    "pickle.dump(knn_regressor, open(filename, 'wb'))\n",
    "\n",
    "loaded_model = pickle.load(open(filename, 'rb'))\n",
    "result = loaded_model.score(X_test_copy, y_test_copy)\n",
    "print(result)\n"
   ]
  },
  {
   "cell_type": "code",
   "execution_count": 9,
   "metadata": {},
   "outputs": [
    {
     "name": "stdout",
     "output_type": "stream",
     "text": [
      "0.03417919614138065\n",
      "Error: 0.21722195802117458\n"
     ]
    }
   ],
   "source": [
    "#Use scikit learn's linear regression function\n",
    "#Linear regression on the processed dataset\n",
    "\n",
    "linear_regression = LinearRegression() \n",
    "linear_regression.fit(X_train_copy, y_train_copy) \n",
    "print(linear_regression.score(X_test_copy, y_test_copy))\n",
    "y_predict =linear_regression.predict(X_test_copy)\n",
    "mse = mean_squared_error(y_test_copy, y_predict)\n",
    "print(\"Error:\", mse)\n",
    "\n",
    "filename = 'finalized_model_LR1.model'\n",
    "pickle.dump(linear_regression, open(filename, 'wb'))\n",
    "\n",
    "loaded_model = pickle.load(open(filename, 'rb'))\n",
    "result = loaded_model.score(X_test_copy, y_test_copy)"
   ]
  },
  {
   "cell_type": "code",
   "execution_count": 10,
   "metadata": {},
   "outputs": [
    {
     "name": "stdout",
     "output_type": "stream",
     "text": [
      "SVM MSE (processed): 0.2491947094489012\n",
      "SVM Score (processed): -0.10797930738563677\n"
     ]
    }
   ],
   "source": [
    "#Use scikit learn's SVM function\n",
    "#SVM on the processed dataset\n",
    "\n",
    "svm_regressor = SVR(kernel='rbf', C=1.0, epsilon=0.1)\n",
    "svm_regressor.fit(X_train_copy, y_train_copy)\n",
    "y_predict_svm = svm_regressor.predict(X_test_copy)\n",
    "mse_svm = mean_squared_error(y_test_copy, y_predict_svm)\n",
    "print(\"SVM MSE (processed):\", mse_svm)\n",
    "\n",
    "filename_svm = 'finalized_model_SVM1.model'\n",
    "pickle.dump(svm_regressor, open(filename_svm, 'wb'))\n",
    "\n",
    "loaded_svm_model = pickle.load(open(filename_svm, 'rb'))\n",
    "result_svm = loaded_svm_model.score(X_test_copy, y_test_copy)\n",
    "print(\"SVM Score (processed):\", result_svm)"
   ]
  },
  {
   "cell_type": "code",
   "execution_count": 11,
   "metadata": {},
   "outputs": [
    {
     "name": "stdout",
     "output_type": "stream",
     "text": [
      "Random Forest MSE : 0.2266576040211706\n",
      "Random Forest Score (processed): -0.007773943806621997\n"
     ]
    }
   ],
   "source": [
    "#Use scikit learn's random forest function\n",
    "#Random forest on the processed dataset\n",
    "\n",
    "rf_regressor = RandomForestRegressor(n_estimators=100, random_state=42)\n",
    "rf_regressor.fit(X_train_copy, y_train_copy)\n",
    "y_predict_rf = rf_regressor.predict(X_test_copy)\n",
    "mse_rf = mean_squared_error(y_test_copy, y_predict_rf)\n",
    "print(\"Random Forest MSE :\", mse_rf)\n",
    "\n",
    "filename_rf = 'finalized_model_RF1.model'\n",
    "pickle.dump(rf_regressor, open(filename_rf, 'wb'))\n",
    "\n",
    "loaded_rf_model = pickle.load(open(filename_rf, 'rb'))\n",
    "result_rf = loaded_rf_model.score(X_test_copy, y_test_copy)\n",
    "print(\"Random Forest Score (processed):\", result_rf)"
   ]
  },
  {
   "cell_type": "code",
   "execution_count": 12,
   "metadata": {},
   "outputs": [
    {
     "name": "stdout",
     "output_type": "stream",
     "text": [
      "RMSE :  0.454457\n"
     ]
    }
   ],
   "source": [
    "xgb_r = xg.XGBRegressor(objective ='reg:squarederror', n_estimators = 10, seed = 123) \n",
    "xgb_r.fit(X_train_copy, y_train_copy) \n",
    "pred = xgb_r.predict(X_test_copy) \n",
    "rmse = np.sqrt(MSE(y_test_copy, pred)) \n",
    "print(\"RMSE : % f\" %(rmse))"
   ]
  },
  {
   "cell_type": "code",
   "execution_count": 13,
   "metadata": {},
   "outputs": [
    {
     "name": "stdout",
     "output_type": "stream",
     "text": [
      "Huber Score: 0.051797740181457996\n"
     ]
    }
   ],
   "source": [
    "#Huber Loss Regressor Function\n",
    "huber = HuberRegressor().fit(X_train_copy, y_train_copy)\n",
    "print(f\"Huber Score: {huber.score(X_train_copy, y_train_copy)}\")"
   ]
  },
  {
   "cell_type": "code",
   "execution_count": 14,
   "metadata": {},
   "outputs": [],
   "source": [
    "#Polynomial Regression attempt\n",
    "\n",
    "#poly = PolynomialFeatures(degree=4)\n",
    "#X_poly = poly.fit_transform(X_train_copy)\n",
    "#poly.fit(X_poly, y_train_copy)\n",
    "#X_test_poly = poly.transform(X_test_copy)\n",
    "\n",
    "#lin2 = LinearRegression()\n",
    "#lin2.fit(X_poly, y_train_copy)\n",
    "\n",
    "#print(lin2.score(X_test_copy, y_test_copy))\n",
    "#y_predict = lin2.predict(X_test_poly)\n",
    "#mse = mean_squared_error(y_test_copy, y_predict)\n",
    "#print(\"Error:\", mse)\n"
   ]
  },
  {
   "cell_type": "code",
   "execution_count": 15,
   "metadata": {},
   "outputs": [
    {
     "data": {
      "text/plain": [
       "0.034955358225312594"
      ]
     },
     "execution_count": 15,
     "metadata": {},
     "output_type": "execute_result"
    }
   ],
   "source": [
    "#Ridge Regression\n",
    "rdg = Ridge(alpha = 1.0)\n",
    "rdg.fit(X_train_copy, y_train_copy)\n",
    "rdg.score(X_test_copy,y_test_copy)"
   ]
  },
  {
   "cell_type": "code",
   "execution_count": 16,
   "metadata": {},
   "outputs": [
    {
     "name": "stdout",
     "output_type": "stream",
     "text": [
      "Elastic Net MSE: 0.2249478904773281\n"
     ]
    }
   ],
   "source": [
    "#Elastic Net Regression\n",
    "from sklearn.linear_model import ElasticNet\n",
    "elastic_net = ElasticNet(alpha=1.0, l1_ratio=0.5, random_state=42)\n",
    "elastic_net.fit(X_train_copy, y_train_copy)\n",
    "y_predict_elastic = elastic_net.predict(X_test_copy)\n",
    "mse_elastic = mean_squared_error(y_test_copy, y_predict_elastic)\n",
    "print(\"Elastic Net MSE:\", mse_elastic)"
   ]
  },
  {
   "cell_type": "code",
   "execution_count": 17,
   "metadata": {},
   "outputs": [
    {
     "name": "stdout",
     "output_type": "stream",
     "text": [
      "Mean Squared Error: 0.2249\n",
      "\n",
      "Lasso Coefficients:\n",
      "[ 0.  0. -0.  0.  0. -0.  0.  0.  0.  0.]\n",
      "\n",
      "Selected features (non-zero coefficients): []\n"
     ]
    }
   ],
   "source": [
    "#Lasso Regression\n",
    "lasso = Lasso(alpha=0.1)  # Regularization strength (higher alpha means more regularization)\n",
    "\n",
    "lasso.fit(X_train_copy, y_train_copy)\n",
    "\n",
    "y_pred = lasso.predict(X_test_copy)\n",
    "\n",
    "mse = mean_squared_error(y_test_copy, y_pred)\n",
    "print(f\"Mean Squared Error: {mse:.4f}\")\n",
    "\n",
    "print(\"\\nLasso Coefficients:\")\n",
    "print(lasso.coef_)\n",
    "\n",
    "non_zero_coefficients = np.where(lasso.coef_ != 0)[0]\n",
    "print(f\"\\nSelected features (non-zero coefficients): {non_zero_coefficients}\") "
   ]
  },
  {
   "cell_type": "code",
   "execution_count": 44,
   "metadata": {},
   "outputs": [
    {
     "name": "stdout",
     "output_type": "stream",
     "text": [
      "Histogram-based Gradient Boosting Regression Tree Score: 0.06814829760017493\n",
      "0.21278773676591012\n"
     ]
    }
   ],
   "source": [
    "hgbr = HistGradientBoostingRegressor(loss = 'squared_error', learning_rate=0.1, max_iter=100,\n",
    "                                    max_bins=255, early_stopping='auto', n_iter_no_change=100).fit(X_train_copy, y_train_copy)\n",
    "y_predict_hgbr = hgbr.predict(X_test_copy)\n",
    "filename_hgbr = 'finalized_model_HGBR1.model'\n",
    "pickle.dump(hgbr, open(filename_hgbr, 'wb'))\n",
    "\n",
    "loaded_hgbr_model = pickle.load(open(filename_hgbr, 'rb'))\n",
    "result_hgbr = loaded_hgbr_model.score(X_test_copy, y_test_copy)\n",
    "print(\"Histogram-based Gradient Boosting Regression Tree Score:\", result_hgbr)\n",
    "\n",
    "score = hgbr.score(X_train_copy, y_train_copy)\n",
    "print(score)"
   ]
  }
 ],
 "metadata": {
  "kernelspec": {
   "display_name": "base",
   "language": "python",
   "name": "python3"
  },
  "language_info": {
   "codemirror_mode": {
    "name": "ipython",
    "version": 3
   },
   "file_extension": ".py",
   "mimetype": "text/x-python",
   "name": "python",
   "nbconvert_exporter": "python",
   "pygments_lexer": "ipython3",
   "version": "3.12.4"
  }
 },
 "nbformat": 4,
 "nbformat_minor": 2
}
